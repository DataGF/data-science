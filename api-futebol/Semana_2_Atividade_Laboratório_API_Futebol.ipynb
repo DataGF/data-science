{
  "nbformat": 4,
  "nbformat_minor": 0,
  "metadata": {
    "colab": {
      "name": "Semana 2 - Atividade Laboratório - API Futebol",
      "provenance": [],
      "collapsed_sections": [],
      "include_colab_link": true
    },
    "kernelspec": {
      "name": "python3",
      "display_name": "Python 3"
    }
  },
  "cells": [
    {
      "cell_type": "markdown",
      "metadata": {
        "id": "view-in-github",
        "colab_type": "text"
      },
      "source": [
        "<a href=\"https://colab.research.google.com/github/DataGF/data-science/blob/master/Semana_2_Atividade_Laborat%C3%B3rio_API_Futebol.ipynb\" target=\"_parent\"><img src=\"https://colab.research.google.com/assets/colab-badge.svg\" alt=\"Open In Colab\"/></a>"
      ]
    },
    {
      "cell_type": "markdown",
      "metadata": {
        "id": "mOMBo4sIY1f1"
      },
      "source": [
        "Atividade de Laboratório \r\n",
        " \r\n",
        "### É necessário usar a biblioteca requests ### \r\n",
        " \r\n",
        "### import request ###\r\n",
        " \r\n",
        "1) Nesta atividade, você irá consultar um banco de dados com informações sobre campeonatos de futebol (Brasil) - Partidas,Times, Fases, Artilharia etc\r\n",
        " \r\n",
        "2) Será usado uma API (RESTful) para realizar as consultas\r\n",
        " \r\n",
        "3) Primeiro passo: acesse o site https://www.api-futebol.com.br/, realize seu cadastramento e tome nota da API Key para teste. Esse é o seu acess_token.\r\n",
        " \r\n",
        "4) Defina uma variável access_token no qual será atribuído o seu token. \r\n",
        " \r\n",
        "5) Passe esse valor para 'Bearer' valor da chave 'Authorization' (dica: método usado para formatar strings). Modifique a Solução de exemplo ao final. \r\n",
        " \r\n",
        "6) a variável \"results\" irá receber os resultados da consulta no formato Json. Qual o tipo dessa variável ?\r\n",
        " \r\n",
        "7) Uma vez conhecido o tipo da variável, visualize alguns conteúdos. \r\n",
        " \r\n",
        "8) Salvar o resultado em um arquivo. \r\n",
        " \r\n",
        "### Solução de exemplo - Modificar para realizar o exercício ###\r\n",
        "results = requests.get(url,headers={'Content-Type':'application/json', 'Authorization': 'Bearer #yourAccessTokenHere#'}).json()"
      ]
    },
    {
      "cell_type": "code",
      "metadata": {
        "id": "kIR3bFqRY220"
      },
      "source": [
        "import requests\r\n",
        "import json"
      ],
      "execution_count": 1,
      "outputs": []
    },
    {
      "cell_type": "code",
      "metadata": {
        "id": "nSau4jHrbDr4",
        "cellView": "form"
      },
      "source": [
        "#@title Célula oculta: definição da variável access_token\n",
        "access_token = 'test_34e23871f1d16551ba1ebf7c1588b0'"
      ],
      "execution_count": 2,
      "outputs": []
    },
    {
      "cell_type": "code",
      "metadata": {
        "colab": {
          "base_uri": "https://localhost:8080/"
        },
        "id": "yqN5tqH8b_mf",
        "outputId": "cbe9d11e-06d9-470c-e29e-e0620c95d02d"
      },
      "source": [
        "# Verifica o tipo de váriável do token de acesso\r\n",
        "type(access_token)"
      ],
      "execution_count": 3,
      "outputs": [
        {
          "output_type": "execute_result",
          "data": {
            "text/plain": [
              "str"
            ]
          },
          "metadata": {
            "tags": []
          },
          "execution_count": 3
        }
      ]
    },
    {
      "cell_type": "code",
      "metadata": {
        "colab": {
          "base_uri": "https://localhost:8080/"
        },
        "id": "eOQP_czbfXBK",
        "outputId": "3a436143-f555-4bb1-c1cf-586d8d61ba36"
      },
      "source": [
        "# Define e verifica o tipo de variável de results\r\n",
        "url_lista_campeonatos = 'https://api.api-futebol.com.br/v1/campeonatos'\r\n",
        "results = requests.get(url_lista_campeonatos, headers={'Content-Type':'application/json', 'Authorization':'Bearer {}'.format(access_token)}).json()\r\n",
        "type(results)"
      ],
      "execution_count": 4,
      "outputs": [
        {
          "output_type": "execute_result",
          "data": {
            "text/plain": [
              "list"
            ]
          },
          "metadata": {
            "tags": []
          },
          "execution_count": 4
        }
      ]
    },
    {
      "cell_type": "code",
      "metadata": {
        "colab": {
          "base_uri": "https://localhost:8080/"
        },
        "id": "WafMb2ezhBAK",
        "outputId": "07596cb2-c7cb-4a59-c59b-0e0aa5d5e68b"
      },
      "source": [
        "# Estrutura da lista\r\n",
        "print(results)"
      ],
      "execution_count": 5,
      "outputs": [
        {
          "output_type": "stream",
          "text": [
            "[{'campeonato_id': 14, 'nome': 'Campeonato Brasileiro Série B', 'slug': 'campeonato-brasileiro-serie-b', 'nome_popular': 'Brasileirão Série B', 'edicao_atual': {'edicao_id': 10, 'temporada': '2020', 'nome': 'Campeonato Brasileiro Série B 2020', 'nome_popular': 'Brasileirão Série B 2020', 'slug': 'campeonato-brasileiro-serie-b-2020'}, 'fase_atual': {'fase_id': 56, 'nome': 'Fase Única', 'slug': None, 'tipo': 'pontos-corridos', '_link': '/v1/campeonatos/14/fases/56'}, 'rodada_atual': {'nome': '38ª Rodada', 'slug': '38a-rodada', 'rodada': 38, 'status': 'agendada'}, 'status': 'finalizado', 'tipo': 'Pontos Corridos', 'logo': 'https://api.api-futebol.com.br/images/competicao/brasileiro-serieb.png', '_link': '/v1/campeonatos/14'}]\n"
          ],
          "name": "stdout"
        }
      ]
    },
    {
      "cell_type": "code",
      "metadata": {
        "colab": {
          "base_uri": "https://localhost:8080/"
        },
        "id": "NF8s4FKLiMrk",
        "outputId": "21d77797-c611-401f-96cb-0aebedd48ae1"
      },
      "source": [
        "# Verifica a consistência de chaves da lista\r\n",
        "for key in results:\r\n",
        "  print(key.keys())"
      ],
      "execution_count": 6,
      "outputs": [
        {
          "output_type": "stream",
          "text": [
            "dict_keys(['campeonato_id', 'nome', 'slug', 'nome_popular', 'edicao_atual', 'fase_atual', 'rodada_atual', 'status', 'tipo', 'logo', '_link'])\n"
          ],
          "name": "stdout"
        }
      ]
    },
    {
      "cell_type": "code",
      "metadata": {
        "colab": {
          "base_uri": "https://localhost:8080/"
        },
        "id": "HOqEEKKKi6HF",
        "outputId": "2ed6c346-1d38-441c-faa4-10cba2bf3865"
      },
      "source": [
        "# Visualização de alguns conteúdos\r\n",
        "for key in results:\r\n",
        "  print('TORNEIO: ' + key['nome'] + ', ID: ' + str(key['campeonato_id']) + ', NOME POPULAR: ' + key['nome_popular'] + ', PONTUAÇÃO: ' + key['tipo'] + '.')"
      ],
      "execution_count": 7,
      "outputs": [
        {
          "output_type": "stream",
          "text": [
            "TORNEIO: Campeonato Brasileiro Série B, ID: 14, NOME POPULAR: Brasileirão Série B, PONTUAÇÃO: Pontos Corridos.\n"
          ],
          "name": "stdout"
        }
      ]
    },
    {
      "cell_type": "markdown",
      "metadata": {
        "id": "W_Z-RC8_e-gW"
      },
      "source": [
        "# **DESAFIO COMPLEMENTAR**\r\n",
        "\r\n",
        "Quais são os artilheiros da Copa do Brasil?\r\n",
        "Apresente o nome, a quantidade de gols e o time de todos eles :D"
      ]
    },
    {
      "cell_type": "code",
      "metadata": {
        "id": "6MZ2TVoXe_Ky",
        "colab": {
          "base_uri": "https://localhost:8080/"
        },
        "outputId": "7c0676a9-e75c-48d6-9ef0-37701ad0e32a"
      },
      "source": [
        "# Define e verifica o tipo de variável de artilheiros\r\n",
        "url_lista_artilheiros = 'https://api.api-futebol.com.br/v1/campeonatos/2/artilharia'\r\n",
        "artilheiros = requests.get(url_lista_artilheiros, headers={'Content-Type':'application/json', 'Authorization':'Bearer {}'.format(access_token)}).json()\r\n",
        "type(artilheiros)"
      ],
      "execution_count": 8,
      "outputs": [
        {
          "output_type": "execute_result",
          "data": {
            "text/plain": [
              "list"
            ]
          },
          "metadata": {
            "tags": []
          },
          "execution_count": 8
        }
      ]
    },
    {
      "cell_type": "code",
      "metadata": {
        "colab": {
          "base_uri": "https://localhost:8080/"
        },
        "id": "S1fKcVLAglpe",
        "outputId": "04cc916d-4e44-4e69-dec6-06627323e01f"
      },
      "source": [
        "# Estrutura da lista de dicionários\r\n",
        "for items in artilheiros:\r\n",
        "  print(items)"
      ],
      "execution_count": 9,
      "outputs": [
        {
          "output_type": "stream",
          "text": [
            "{'atleta': {'atleta_id': 5007, 'nome_popular': 'Caio Dantas', 'posicao': []}, 'time': {'time_id': 120, 'nome_popular': 'Sampaio Corrêa', 'escudo': 'https://apifutebol.s3.sa-east-1.amazonaws.com/escudos/5f999dd07831b.svg'}, 'gols': 17}\n",
            "{'atleta': {'atleta_id': 3139, 'nome_popular': 'Léo Ceará', 'posicao': {'nome': 'Atacante', 'sigla': 'ATA'}}, 'time': {'time_id': 102, 'nome_popular': 'Vitória', 'escudo': 'https://apifutebol.s3.sa-east-1.amazonaws.com/escudos/5f999db697241.svg'}, 'gols': 16}\n",
            "{'atleta': {'atleta_id': 1445, 'nome_popular': 'Anselmo Ramon', 'posicao': {'nome': 'Atacante', 'sigla': 'ATA'}}, 'time': {'time_id': 5, 'nome_popular': 'Chapecoense', 'escudo': 'https://apifutebol.s3.sa-east-1.amazonaws.com/escudos/5f999c82dc52e.svg'}, 'gols': 10}\n",
            "{'atleta': {'atleta_id': 5177, 'nome_popular': 'Paulo Sérgio', 'posicao': []}, 'time': {'time_id': 95, 'nome_popular': 'CSA', 'escudo': 'https://apifutebol.s3.sa-east-1.amazonaws.com/escudos/5f999dac914d4.svg'}, 'gols': 10}\n",
            "{'atleta': {'atleta_id': 5046, 'nome_popular': 'Reis', 'posicao': {'nome': 'Atacante', 'sigla': 'ATA'}}, 'time': {'time_id': 205, 'nome_popular': 'Confiança', 'escudo': 'https://apifutebol.s3.sa-east-1.amazonaws.com/escudos/5f999e45c52f1.svg'}, 'gols': 10}\n"
          ],
          "name": "stdout"
        }
      ]
    },
    {
      "cell_type": "code",
      "metadata": {
        "colab": {
          "base_uri": "https://localhost:8080/"
        },
        "id": "DKWfa_PVBoB_",
        "outputId": "6219355d-5aaf-4de4-8f98-d67a9199144f"
      },
      "source": [
        "# Verifica a consistência de chaves dos dicionários da lista\r\n",
        "for key in artilheiros:\r\n",
        "  print(key.keys())"
      ],
      "execution_count": 10,
      "outputs": [
        {
          "output_type": "stream",
          "text": [
            "dict_keys(['atleta', 'time', 'gols'])\n",
            "dict_keys(['atleta', 'time', 'gols'])\n",
            "dict_keys(['atleta', 'time', 'gols'])\n",
            "dict_keys(['atleta', 'time', 'gols'])\n",
            "dict_keys(['atleta', 'time', 'gols'])\n"
          ],
          "name": "stdout"
        }
      ]
    },
    {
      "cell_type": "code",
      "metadata": {
        "colab": {
          "base_uri": "https://localhost:8080/"
        },
        "id": "nSZ9MTxjQO7k",
        "outputId": "af139632-c2b7-489c-d720-1b4f37d83b7b"
      },
      "source": [
        "# Apresenta o nome, o time e os gols dos artilheiros da Copa do Brasil\r\n",
        "lista_artilheiros = []\r\n",
        "lista_times = []\r\n",
        "lista_gols = []\r\n",
        "\r\n",
        "for artilheiro in artilheiros:\r\n",
        "  lista_artilheiros.append(artilheiro['atleta']['nome_popular'])\r\n",
        "for time in artilheiros:\r\n",
        "  lista_times.append(time['time']['nome_popular'])\r\n",
        "for gol in artilheiros:\r\n",
        "  lista_gols.append(str(gol['gols']))\r\n",
        "\r\n",
        "lista_geral = tuple(zip(lista_artilheiros, lista_times, lista_gols))\r\n",
        "\r\n",
        "# print com format()\r\n",
        "# for dados in lista_geral:\r\n",
        "#  print('ARTILHEIRO: {}, TIME: {}, GOLS: {}\\n'.format(dados[0], dados[1], dados[2]))\r\n",
        "\r\n",
        "# print com f string\r\n",
        "for dados in lista_geral:\r\n",
        "  print(f'ARTILHEIRO: {dados[0]}, TIME: {dados[1]}, GOLS: {dados[2]}\\n')"
      ],
      "execution_count": 46,
      "outputs": [
        {
          "output_type": "stream",
          "text": [
            "ARTILHEIRO: Caio Dantas, TIME: Sampaio Corrêa, GOLS: 17\n",
            "\n",
            "ARTILHEIRO: Léo Ceará, TIME: Vitória, GOLS: 16\n",
            "\n",
            "ARTILHEIRO: Anselmo Ramon, TIME: Chapecoense, GOLS: 10\n",
            "\n",
            "ARTILHEIRO: Paulo Sérgio, TIME: CSA, GOLS: 10\n",
            "\n",
            "ARTILHEIRO: Reis, TIME: Confiança, GOLS: 10\n",
            "\n"
          ],
          "name": "stdout"
        }
      ]
    }
  ]
}
