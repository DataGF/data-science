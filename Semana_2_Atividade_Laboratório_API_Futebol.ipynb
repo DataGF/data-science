{
  "nbformat": 4,
  "nbformat_minor": 0,
  "metadata": {
    "colab": {
      "name": "Semana 2 - Atividade Laboratório - API Futebol",
      "provenance": [],
      "collapsed_sections": [],
      "include_colab_link": true
    },
    "kernelspec": {
      "name": "python3",
      "display_name": "Python 3"
    }
  },
  "cells": [
    {
      "cell_type": "markdown",
      "metadata": {
        "id": "view-in-github",
        "colab_type": "text"
      },
      "source": [
        "<a href=\"https://colab.research.google.com/github/DataGF/data-science/blob/master/Semana_2_Atividade_Laborat%C3%B3rio_API_Futebol.ipynb\" target=\"_parent\"><img src=\"https://colab.research.google.com/assets/colab-badge.svg\" alt=\"Open In Colab\"/></a>"
      ]
    },
    {
      "cell_type": "markdown",
      "metadata": {
        "id": "mOMBo4sIY1f1"
      },
      "source": [
        "Atividade de Laboratório \r\n",
        " \r\n",
        "### É necessário usar a biblioteca requests ### \r\n",
        " \r\n",
        "### import request ###\r\n",
        " \r\n",
        "1) Nesta atividade, você irá consultar um banco de dados com informações sobre campeonatos de futebol (Brasil) - Partidas,Times, Fases, Artilharia etc\r\n",
        " \r\n",
        "2) Será usado uma API (RESTful) para realizar as consultas\r\n",
        " \r\n",
        "3) Primeiro passo: acesse o site https://www.api-futebol.com.br/, realize seu cadastramento e tome nota da API Key para teste. Esse é o seu acess_token.\r\n",
        " \r\n",
        "4) Defina uma variável access_token no qual será atribuído o seu token. \r\n",
        " \r\n",
        "5) Passe esse valor para 'Bearer' valor da chave 'Authorization' (dica: método usado para formatar strings). Modifique a Solução de exemplo ao final. \r\n",
        " \r\n",
        "6) a variável \"results\" irá receber os resultados da consulta no formato Json. Qual o tipo dessa variável ?\r\n",
        " \r\n",
        "7) Uma vez conhecido o tipo da variável, visualize alguns conteúdos. \r\n",
        " \r\n",
        "8) Salvar o resultado em um arquivo. \r\n",
        " \r\n",
        "### Solução de exemplo - Modificar para realizar o exercício ###\r\n",
        "results = requests.get(url,headers={'Content-Type':'application/json', 'Authorization': 'Bearer #yourAccessTokenHere#'}).json()"
      ]
    },
    {
      "cell_type": "code",
      "metadata": {
        "id": "kIR3bFqRY220"
      },
      "source": [
        "import requests\r\n",
        "import json"
      ],
      "execution_count": null,
      "outputs": []
    },
    {
      "cell_type": "code",
      "metadata": {
        "id": "nSau4jHrbDr4",
        "cellView": "form"
      },
      "source": [
        "#@title Célula oculta: definição da variável access_token\n",
        "access_token = 'test_34e23871f1d16551ba1ebf7c1588b0'"
      ],
      "execution_count": 106,
      "outputs": []
    },
    {
      "cell_type": "code",
      "metadata": {
        "colab": {
          "base_uri": "https://localhost:8080/"
        },
        "id": "yqN5tqH8b_mf",
        "outputId": "99f5fd27-9c7a-49c7-90d4-799d9654cd5c"
      },
      "source": [
        "# Verifica o tipo de váriável do token de acesso\r\n",
        "type(access_token)"
      ],
      "execution_count": null,
      "outputs": [
        {
          "output_type": "execute_result",
          "data": {
            "text/plain": [
              "str"
            ]
          },
          "metadata": {
            "tags": []
          },
          "execution_count": 64
        }
      ]
    },
    {
      "cell_type": "code",
      "metadata": {
        "colab": {
          "base_uri": "https://localhost:8080/"
        },
        "id": "eOQP_czbfXBK",
        "outputId": "959eb379-a029-4199-8c12-48aa8ae7abe5"
      },
      "source": [
        "# Define e verifica o tipo de variável de results\r\n",
        "url_lista_campeonatos = 'https://api.api-futebol.com.br/v1/campeonatos'\r\n",
        "results = requests.get(url_lista_campeonatos, headers={'Content-Type':'application/json', 'Authorization':'Bearer {}'.format(access_token)}).json()\r\n",
        "type(results)"
      ],
      "execution_count": null,
      "outputs": [
        {
          "output_type": "execute_result",
          "data": {
            "text/plain": [
              "list"
            ]
          },
          "metadata": {
            "tags": []
          },
          "execution_count": 87
        }
      ]
    },
    {
      "cell_type": "code",
      "metadata": {
        "colab": {
          "base_uri": "https://localhost:8080/"
        },
        "id": "WafMb2ezhBAK",
        "outputId": "f982111b-de6b-4ee1-8541-d1142b9b7e18"
      },
      "source": [
        "# Estrutura da lista\r\n",
        "print(results)"
      ],
      "execution_count": null,
      "outputs": [
        {
          "output_type": "stream",
          "text": [
            "[{'campeonato_id': 14, 'nome': 'Campeonato Brasileiro Série B', 'slug': 'campeonato-brasileiro-serie-b', 'nome_popular': 'Brasileirão Série B', 'edicao_atual': {'edicao_id': 10, 'temporada': '2020', 'nome': 'Campeonato Brasileiro Série B 2020', 'nome_popular': 'Brasileirão Série B 2020', 'slug': 'campeonato-brasileiro-serie-b-2020'}, 'fase_atual': {'fase_id': 56, 'nome': 'Fase Única', 'slug': None, 'tipo': 'pontos-corridos', '_link': '/v1/campeonatos/14/fases/56'}, 'rodada_atual': {'nome': '38ª Rodada', 'slug': '38a-rodada', 'rodada': 38, 'status': 'agendada'}, 'status': 'finalizado', 'tipo': 'Pontos Corridos', 'logo': 'https://api.api-futebol.com.br/images/competicao/brasileiro-serieb.png', '_link': '/v1/campeonatos/14'}]\n"
          ],
          "name": "stdout"
        }
      ]
    },
    {
      "cell_type": "code",
      "metadata": {
        "colab": {
          "base_uri": "https://localhost:8080/"
        },
        "id": "NF8s4FKLiMrk",
        "outputId": "b29ea0b9-f364-49b1-ebf2-71db20852f64"
      },
      "source": [
        "# Verifica a consistência de chaves da lista\r\n",
        "for key in results:\r\n",
        "  print(key.keys())"
      ],
      "execution_count": null,
      "outputs": [
        {
          "output_type": "stream",
          "text": [
            "dict_keys(['campeonato_id', 'nome', 'slug', 'nome_popular', 'edicao_atual', 'fase_atual', 'rodada_atual', 'status', 'tipo', 'logo', '_link'])\n"
          ],
          "name": "stdout"
        }
      ]
    },
    {
      "cell_type": "code",
      "metadata": {
        "colab": {
          "base_uri": "https://localhost:8080/"
        },
        "id": "HOqEEKKKi6HF",
        "outputId": "6bef57af-be4e-4254-a238-7b1dd0cff8a9"
      },
      "source": [
        "# Visualização de alguns conteúdos\r\n",
        "for key in results:\r\n",
        "  print('TORNEIO: ' + key['nome'] + ', ID: ' + str(key['campeonato_id']) + ', NOME POPULAR: ' + key['nome_popular'] + ', PONTUAÇÃO: ' + key['tipo'] + '.')"
      ],
      "execution_count": null,
      "outputs": [
        {
          "output_type": "stream",
          "text": [
            "TORNEIO: Campeonato Brasileiro Série B, ID: 14, NOME POPULAR: Brasileirão Série B, PONTUAÇÃO: Pontos Corridos.\n"
          ],
          "name": "stdout"
        }
      ]
    },
    {
      "cell_type": "markdown",
      "metadata": {
        "id": "W_Z-RC8_e-gW"
      },
      "source": [
        "# **DESAFIO COMPLEMENTAR**\r\n",
        "\r\n",
        "Quais são os artilheiros da Copa do Brasil?\r\n",
        "Apresente o nome, a quantidade de gols e o time de todos eles :D"
      ]
    },
    {
      "cell_type": "code",
      "metadata": {
        "id": "6MZ2TVoXe_Ky",
        "colab": {
          "base_uri": "https://localhost:8080/"
        },
        "outputId": "825731ec-39f3-4e1f-9543-0863f2c61a17"
      },
      "source": [
        "# Define e verifica o tipo de variável de results\r\n",
        "url_lista_artilheiros = 'https://api.api-futebol.com.br/v1/campeonatos/2/artilharia'\r\n",
        "artilheiros = requests.get(url_lista_artilheiros, headers={'Content-Type':'application/json', 'Authorization':'Bearer {}'.format(access_token)}).json()\r\n",
        "type(artilheiros)"
      ],
      "execution_count": null,
      "outputs": [
        {
          "output_type": "execute_result",
          "data": {
            "text/plain": [
              "list"
            ]
          },
          "metadata": {
            "tags": []
          },
          "execution_count": 85
        }
      ]
    },
    {
      "cell_type": "code",
      "metadata": {
        "colab": {
          "base_uri": "https://localhost:8080/"
        },
        "id": "S1fKcVLAglpe",
        "outputId": "6d849037-fb51-474c-c080-bf7913316008"
      },
      "source": [
        "# Estrutura da lista de dicionários\r\n",
        "for items in artilheiros:\r\n",
        "  print(items)"
      ],
      "execution_count": 108,
      "outputs": [
        {
          "output_type": "stream",
          "text": [
            "{'atleta': {'atleta_id': 5007, 'nome_popular': 'Caio Dantas', 'posicao': []}, 'time': {'time_id': 120, 'nome_popular': 'Sampaio Corrêa', 'escudo': 'https://apifutebol.s3.sa-east-1.amazonaws.com/escudos/5f999dd07831b.svg'}, 'gols': 17}\n",
            "{'atleta': {'atleta_id': 3139, 'nome_popular': 'Léo Ceará', 'posicao': {'nome': 'Atacante', 'sigla': 'ATA'}}, 'time': {'time_id': 102, 'nome_popular': 'Vitória', 'escudo': 'https://apifutebol.s3.sa-east-1.amazonaws.com/escudos/5f999db697241.svg'}, 'gols': 16}\n",
            "{'atleta': {'atleta_id': 1445, 'nome_popular': 'Anselmo Ramon', 'posicao': {'nome': 'Atacante', 'sigla': 'ATA'}}, 'time': {'time_id': 5, 'nome_popular': 'Chapecoense', 'escudo': 'https://apifutebol.s3.sa-east-1.amazonaws.com/escudos/5f999c82dc52e.svg'}, 'gols': 10}\n",
            "{'atleta': {'atleta_id': 5177, 'nome_popular': 'Paulo Sérgio', 'posicao': []}, 'time': {'time_id': 95, 'nome_popular': 'CSA', 'escudo': 'https://apifutebol.s3.sa-east-1.amazonaws.com/escudos/5f999dac914d4.svg'}, 'gols': 10}\n",
            "{'atleta': {'atleta_id': 5046, 'nome_popular': 'Reis', 'posicao': {'nome': 'Atacante', 'sigla': 'ATA'}}, 'time': {'time_id': 205, 'nome_popular': 'Confiança', 'escudo': 'https://apifutebol.s3.sa-east-1.amazonaws.com/escudos/5f999e45c52f1.svg'}, 'gols': 10}\n"
          ],
          "name": "stdout"
        }
      ]
    },
    {
      "cell_type": "code",
      "metadata": {
        "colab": {
          "base_uri": "https://localhost:8080/"
        },
        "id": "DKWfa_PVBoB_",
        "outputId": "e45b3f2f-6e34-4744-95f7-9e3629393ef3"
      },
      "source": [
        "# Verifica a consistência de chaves dos dicionários da lista\r\n",
        "for key in artilheiros:\r\n",
        "  print(key.keys())"
      ],
      "execution_count": 105,
      "outputs": [
        {
          "output_type": "stream",
          "text": [
            "dict_keys(['atleta', 'time', 'gols'])\n",
            "dict_keys(['atleta', 'time', 'gols'])\n",
            "dict_keys(['atleta', 'time', 'gols'])\n",
            "dict_keys(['atleta', 'time', 'gols'])\n",
            "dict_keys(['atleta', 'time', 'gols'])\n"
          ],
          "name": "stdout"
        }
      ]
    },
    {
      "cell_type": "code",
      "metadata": {
        "colab": {
          "base_uri": "https://localhost:8080/"
        },
        "id": "nSZ9MTxjQO7k",
        "outputId": "c54db302-4d94-46a2-ee9f-f49d4b685b30"
      },
      "source": [
        "# Apresenta o nome, o time e os gols dos artilheiros da Copa do Brasil\r\n",
        "lista_artilheiros = []\r\n",
        "lista_times = []\r\n",
        "lista_gols = []\r\n",
        "\r\n",
        "for artilheiro in artilheiros:\r\n",
        "  lista_artilheiros.append(artilheiro['atleta']['nome_popular'])\r\n",
        "for time in artilheiros:\r\n",
        "  lista_times.append(time['time']['nome_popular'])\r\n",
        "for gol in artilheiros:\r\n",
        "  lista_gols.append(gol['gols'])\r\n",
        "\r\n",
        "lista_geral = tuple(zip(lista_artilheiros, lista_times, lista_gols))\r\n",
        "\r\n",
        "for dados in lista_geral:\r\n",
        "  print(dados)"
      ],
      "execution_count": 186,
      "outputs": [
        {
          "output_type": "stream",
          "text": [
            "('Caio Dantas', 'Sampaio Corrêa', 17)\n",
            "('Léo Ceará', 'Vitória', 16)\n",
            "('Anselmo Ramon', 'Chapecoense', 10)\n",
            "('Paulo Sérgio', 'CSA', 10)\n",
            "('Reis', 'Confiança', 10)\n"
          ],
          "name": "stdout"
        }
      ]
    }
  ]
}